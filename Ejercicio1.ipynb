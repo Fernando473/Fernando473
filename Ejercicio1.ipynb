{
  "nbformat": 4,
  "nbformat_minor": 0,
  "metadata": {
    "colab": {
      "provenance": [],
      "authorship_tag": "ABX9TyOQbl0S/HL+MphPa8cVo+PH",
      "include_colab_link": true
    },
    "kernelspec": {
      "name": "python3",
      "display_name": "Python 3"
    },
    "language_info": {
      "name": "python"
    }
  },
  "cells": [
    {
      "cell_type": "markdown",
      "metadata": {
        "id": "view-in-github",
        "colab_type": "text"
      },
      "source": [
        "<a href=\"https://colab.research.google.com/github/Fernando473/Fernando473/blob/main/Ejercicio1.ipynb\" target=\"_parent\"><img src=\"https://colab.research.google.com/assets/colab-badge.svg\" alt=\"Open In Colab\"/></a>"
      ]
    },
    {
      "cell_type": "code",
      "execution_count": 80,
      "metadata": {
        "id": "pWkuNKE5INVv"
      },
      "outputs": [],
      "source": [
        "import pandas as pd\n",
        "\n",
        "\n",
        "def unique(path):\n",
        "  \n",
        "  df = pd.read_excel(path, header=None)\n",
        "\n",
        "  arr = df[1] #Colummna del email\n",
        "\n",
        "  all = []\n",
        "  for i in arr:\n",
        "    if i not in all:\n",
        "      all.append(i)\n",
        "  \n",
        "  return all"
      ]
    },
    {
      "cell_type": "code",
      "source": [
        "arr=unique(\"Libro1.xlsx\")\n",
        "arr"
      ],
      "metadata": {
        "colab": {
          "base_uri": "https://localhost:8080/"
        },
        "id": "pSqMfqHgPXDv",
        "outputId": "304037a2-88a5-4040-a71c-ad16a86c807c"
      },
      "execution_count": 81,
      "outputs": [
        {
          "output_type": "execute_result",
          "data": {
            "text/plain": [
              "['first', 'second', 'third', 'fourth']"
            ]
          },
          "metadata": {},
          "execution_count": 81
        }
      ]
    },
    {
      "cell_type": "code",
      "source": [],
      "metadata": {
        "id": "SXGTnsQmpUB6"
      },
      "execution_count": null,
      "outputs": []
    }
  ]
}